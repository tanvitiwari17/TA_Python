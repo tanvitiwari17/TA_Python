{
 "cells": [
  {
   "cell_type": "code",
   "execution_count": 1,
   "metadata": {},
   "outputs": [],
   "source": [
    "import numpy as np\n",
    "import pandas as pd"
   ]
  },
  {
   "cell_type": "markdown",
   "metadata": {},
   "source": [
    "### Question 1 (a)"
   ]
  },
  {
   "cell_type": "code",
   "execution_count": 16,
   "metadata": {},
   "outputs": [
    {
     "name": "stdout",
     "output_type": "stream",
     "text": [
      "        * \n",
      "      * * \n",
      "    * * * \n",
      "  * * * * \n",
      "* * * * * \n"
     ]
    }
   ],
   "source": [
    "def pattern(n):\n",
    "    spaces = 2*n-2\n",
    "    \n",
    "    for i in range(0,n):\n",
    "        for j in range(0,spaces):\n",
    "            print(end=\" \")\n",
    "        spaces=spaces-2\n",
    "        for j in range(0,i+1):\n",
    "            print(\"* \",end=\"\")\n",
    "        print(\"\")\n",
    "\n",
    "pattern(5)"
   ]
  },
  {
   "cell_type": "markdown",
   "metadata": {},
   "source": [
    "### Question 1 (b)"
   ]
  },
  {
   "cell_type": "code",
   "execution_count": 3,
   "metadata": {},
   "outputs": [
    {
     "name": "stdout",
     "output_type": "stream",
     "text": [
      "A \n",
      "B C \n",
      "D E F \n",
      "G H I J \n",
      "K L M N O \n"
     ]
    }
   ],
   "source": [
    "alphabet=65  # ASCII  value of A\n",
    "for i in range(0,5): # since question requires 5 rows\n",
    "    for j in range(0,i+1): \n",
    "        print(chr(alphabet), end=\" \") # printing the character at ASCII value\n",
    "        alphabet = alphabet+1 # increasing the ascii value\n",
    "    print(\"\")"
   ]
  },
  {
   "cell_type": "markdown",
   "metadata": {},
   "source": [
    "### Question 2\n",
    "\n",
    "Make a Grocery List for supermarket shopping with name,\n",
    "price and quantity; if the list already contains an item\n",
    "then only update the price and quantity it should not\n",
    "append the item name again. Ask the user his/her budget\n",
    "initially and minus the budget after adding a new item in\n",
    "the list. If budgets go zero/0 then no more items could\n",
    "be bought and if some money left and users add items\n",
    "greater than budget left then inform “over price” or any\n",
    "other message. After the list is made any money left inthe budget it should show an item within the budget from\n",
    "the list made.VALIDATION is a must."
   ]
  },
  {
   "cell_type": "code",
   "execution_count": 8,
   "metadata": {},
   "outputs": [
    {
     "name": "stdout",
     "output_type": "stream",
     "text": [
      "Enter your budget: 500\n",
      "\n",
      "1.Add an item\n",
      "2.Exit\n",
      "Enter your choice:1\n",
      "\n",
      "Enter Product:corn flour\n",
      "Enter Quantity:1.5\n",
      "Enter Price:100\n",
      "\n",
      "Amount Left: 400.0\n",
      "\n",
      "1.Add an item\n",
      "2.Exit\n",
      "Enter your choice:1\n",
      "\n",
      "Enter Product:wheat\n",
      "Enter Quantity:2\n",
      "Enter Price:100\n",
      "\n",
      "Amount Left: 300.0\n",
      "\n",
      "1.Add an item\n",
      "2.Exit\n",
      "Enter your choice:1\n",
      "\n",
      "Enter Product:corn flour\n",
      "Enter Quantity:2\n",
      "Enter Price:250\n",
      "\n",
      "Amount Left:  150.0\n",
      "\n",
      "1.Add an item\n",
      "2.Exit\n",
      "Enter your choice:1\n",
      "\n",
      "Enter Product:rice\n",
      "Enter Quantity:5\n",
      "Enter Price:300\n",
      "\n",
      "Can't Buy Product,Over Priced Item\n",
      "\n",
      "1.Add an item\n",
      "2.Exit\n",
      "Enter your choice:1\n",
      "\n",
      "Enter Product:xyz\n",
      "Enter Quantity:1\n",
      "Enter Price:50\n",
      "\n",
      "Amount Left: 100.0\n",
      "\n",
      "1.Add an item\n",
      "2.Exit\n",
      "Enter your choice:2\n",
      "\n",
      "Amount Left can buy you  wheat\n",
      "\n",
      "GROCERY LIST is:\n",
      "Product name \t Quantity \t Price\n",
      "corn flour \t\t 2.0 \t\t 250.0\n",
      "wheat \t\t 2.0 \t\t 100.0\n",
      "xyz \t\t 1.0 \t\t 50.0\n"
     ]
    }
   ],
   "source": [
    "budget=int(input(\"Enter your budget: \"))\n",
    "new_budget=budget\n",
    "item=[]\n",
    "price=[]\n",
    "quantity=[]\n",
    "grocery= {'item': item,'price': price,'quantity':quantity}\n",
    "\n",
    "if(new_budget==0):\n",
    "    print(\"\")\n",
    "\n",
    "while True:\n",
    "    choice=int(input(\"\\n1.Add an item\\n2.Exit\\nEnter your choice:\"))\n",
    "\n",
    "    if choice==1 and new_budget>0:\n",
    "        prod=input(\"\\nEnter Product:\")\n",
    "        quan=float(input(\"Enter Quantity:\"))\n",
    "        cost=float(input(\"Enter Price:\"))\n",
    "\n",
    "        if(cost>new_budget):\n",
    "            print(\"\\nCan't Buy Product,Over Priced Item\")\n",
    "        else:\n",
    "            if prod in item:\n",
    "                index=item.index(prod)\n",
    "                quantity.remove(quantity[index])\n",
    "                price.remove(price[index])\n",
    "\n",
    "                quantity.insert(index,quan)\n",
    "                price.insert(index,cost)\n",
    "\n",
    "                new_budget=budget-sum(price)\n",
    "                print(\"\\nAmount Left: \", new_budget)\n",
    "            else:\n",
    "                item.append(prod)\n",
    "                quantity.append(quan)\n",
    "                price.append(cost)\n",
    "\n",
    "                new_budget=budget-sum(price)\n",
    "                print(\"\\nAmount Left:\", new_budget)\n",
    "\n",
    "    elif new_budget<=0:\n",
    "            print(\"\\nZero Budget\")\n",
    "    else:\n",
    "            break\n",
    "\n",
    "if new_budget in price:\n",
    "        print(\"\\nAmount Left can buy you \", item[price.index(new_budget)])\n",
    "        \n",
    "print(\"\\nGROCERY LIST is:\")\n",
    "print(\"Product name \\t Quantity \\t Price\")\n",
    "for i in range(len(item)):\n",
    "    print(item[i],\"\\t\\t\",quantity[i],\"\\t\\t\",price[i])\n",
    "    "
   ]
  },
  {
   "cell_type": "code",
   "execution_count": null,
   "metadata": {},
   "outputs": [],
   "source": []
  }
 ],
 "metadata": {
  "kernelspec": {
   "display_name": "Python 3",
   "language": "python",
   "name": "python3"
  },
  "language_info": {
   "codemirror_mode": {
    "name": "ipython",
    "version": 3
   },
   "file_extension": ".py",
   "mimetype": "text/x-python",
   "name": "python",
   "nbconvert_exporter": "python",
   "pygments_lexer": "ipython3",
   "version": "3.8.5"
  }
 },
 "nbformat": 4,
 "nbformat_minor": 4
}
